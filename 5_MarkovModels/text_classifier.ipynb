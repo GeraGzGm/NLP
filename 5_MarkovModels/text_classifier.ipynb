{
 "cells": [
  {
   "cell_type": "markdown",
   "id": "ef0dec74",
   "metadata": {},
   "source": [
    "### Text Classifier Exercise Prompt\n",
    "\n",
    "- You'll be given poems by 2 authors: Edgar Allan Poe and Robert Frost\n",
    "- Build a classifier that can distinguish between the 2 authors\n",
    "- Compute train and test accuracy\n",
    "- Check for class imbalance, compute F1-score if imbalanced BAY\n",
    "\n",
    "#### Details\n",
    "- Convert each line of text (the samples) into integer lists\n",
    "- Train a Markov model for each class (Edgar Allan Poe / Robert Frost)\n",
    "- Don't forget to use smoothing (e.g. add-one smoothing)\n",
    "- Consider whether you need A and x, or log(A) and log(x)\n",
    "- For Bayes' rule, compute the priors: p(class = k)\n",
    "\n",
    "- Write a function to compute the posterior for each class, given an input\n",
    "- Take the argmax over the posteriors to get the predicted class\n",
    "- Make predictions for both train and test sets\n",
    "- Compute accuracy for train/test\n",
    "- Check for class imbalance\n",
    "    - If imbalanced, calculate confusion matrix and f1-score"
   ]
  },
  {
   "cell_type": "code",
   "execution_count": null,
   "id": "510498f1",
   "metadata": {},
   "outputs": [],
   "source": [
    "!cd datasets & wget -nc https://raw.githubusercontent.com/lazyprogrammer/machine_learning_examples/master/hmm_class/edgar_allan_poe.txt\n",
    "!cd datasets & wget -nc https://raw.githubusercontent.com/lazyprogrammer/machine_learning_examples/master/hmm_class/robert_frost.txt"
   ]
  },
  {
   "cell_type": "code",
   "execution_count": 1,
   "id": "a986687e",
   "metadata": {},
   "outputs": [],
   "source": [
    "import string\n",
    "import random\n",
    "\n",
    "import numpy as np\n",
    "from sklearn.model_selection import train_test_split\n",
    "\n",
    "from markov_model import MarkovModel, LoadDataset, Word2Idx\n",
    "\n",
    "\n",
    "random.seed(22)\n",
    "\n",
    "class MarkovClassifier:\n",
    "    def __init__(self):\n",
    "        self.class_models = {}  # Stores {class_label: (A, pi)}\n",
    "        self.class_priors = {}  # Stores P(class)\n",
    "\n",
    "    def train(self, X_train: list, y_train: list, mapper: dict, epsilon: float) -> None:\n",
    "        \"\"\"\n",
    "        Train a Markov model for each class.\n",
    "        \n",
    "        Args:\n",
    "            X_train: List of tokenized sequences (as integers).\n",
    "            y_train: List of class labels.\n",
    "            mapper: Word-to-index mapping dictionary.\n",
    "            epsilon: Smooth factor.\n",
    "        \"\"\"\n",
    "\n",
    "        self.class_priors = self._compute_class_priors(y_train)\n",
    "\n",
    "        self._train_markov_model_per_class(X_train, y_train, mapper, epsilon)\n",
    "\n",
    "\n",
    "    def _compute_class_priors(self, y_train: list) -> dict:\n",
    "        \"\"\"\n",
    "        Compute the prior probability:\n",
    "                p(author = k)\n",
    "        \"\"\"\n",
    "\n",
    "        total_samples = len(y_train)\n",
    "        class_priors =  {}\n",
    "        for class_label in set(y_train):\n",
    "            class_priors[class_label] = np.sum(np.array(y_train) == class_label) / total_samples\n",
    "        return class_priors\n",
    "\n",
    "    def _train_markov_model_per_class(self, X_train: list, y_train: list, mapper: dict, epsilon: float):\n",
    "\n",
    "        for class_label in self.class_priors:\n",
    "            class_samples = [seq for seq, label in zip(X_train, y_train) if label == class_label]\n",
    "\n",
    "            model = MarkovModel(class_samples, mapper)\n",
    "            A, pi = model.train(epsilon)\n",
    "            self.class_models[class_label] = (A, pi)\n",
    "    \n",
    "    def predict(self, x_test: list):\n",
    "        \"\"\"\n",
    "        k* = argmax  log p(poem | author = k) + log p(author = k)\n",
    "                k\n",
    "        \"\"\"\n",
    "        predictions = []\n",
    "\n",
    "        for sequence in x_test:\n",
    "            posteriors = []\n",
    "\n",
    "            for class_label, (A, pi) in self.class_models.items():\n",
    "                log_likelihood = self.log_sequence_probability(sequence, A, pi)\n",
    "                log_prior = np.log( self.class_priors[class_label] + 1e-10 )\n",
    "                log_posterior = log_likelihood + log_prior\n",
    "\n",
    "                posteriors.append(log_posterior)\n",
    "\n",
    "            p_author = np.argmax(posteriors)\n",
    "            predictions.append(p_author)\n",
    "        return np.asarray(predictions)\n",
    "\n",
    "    def log_sequence_probability(self, sequence: list, A: np.ndarray, pi: np.ndarray):\n",
    "        #Initial state\n",
    "        log_prob = np.log( pi[sequence[0]] + 1e-10 )\n",
    "\n",
    "        for prev_token, current_token in zip( sequence[:-1] , sequence[1:] ):\n",
    "            log_prob += np.log( A[current_token, prev_token] + 1e-10)\n",
    "        return log_prob\n"
   ]
  },
  {
   "cell_type": "code",
   "execution_count": 2,
   "id": "93a787ba",
   "metadata": {},
   "outputs": [],
   "source": [
    "poe = LoadDataset(\"../datasets/MarkovModelClassification/edgar_allan_poe.txt\", 0)\n",
    "frost = LoadDataset(\"../datasets/MarkovModelClassification/robert_frost.txt\", 1)\n",
    "\n",
    "X_poe, y_poe = poe.get_samples()\n",
    "X_frost, y_frost = frost.get_samples()\n",
    "\n",
    "x_train, x_test, y_train, y_test = LoadDataset.get_datasets(X_poe, y_poe, X_frost, y_frost, 0.9)\n",
    "\n",
    "word2idx = Word2Idx.map_word2idx(x_train)\n",
    "\n",
    "x_train_mapped = Word2Idx.map_to_int(x_train, word2idx)\n",
    "x_test_mapped = Word2Idx.map_to_int(x_test, word2idx)"
   ]
  },
  {
   "cell_type": "code",
   "execution_count": 3,
   "id": "dbc64293",
   "metadata": {},
   "outputs": [],
   "source": [
    "classifier = MarkovClassifier()\n",
    "classifier.train(x_train_mapped, y_train, word2idx, 0.1)"
   ]
  },
  {
   "cell_type": "code",
   "execution_count": 4,
   "id": "0e2272a6",
   "metadata": {},
   "outputs": [
    {
     "name": "stdout",
     "output_type": "stream",
     "text": [
      "Train Accuracy: 0.999484004127967\n",
      "Train f1_score: 0.9996155324875048\n"
     ]
    },
    {
     "data": {
      "text/plain": [
       "array([[ 637,    1],\n",
       "       [   0, 1300]])"
      ]
     },
     "execution_count": 4,
     "metadata": {},
     "output_type": "execute_result"
    }
   ],
   "source": [
    "from sklearn.metrics import accuracy_score, f1_score, confusion_matrix\n",
    "\n",
    "x_pred = classifier.predict(x_train_mapped)\n",
    "accuracy = accuracy_score(y_train, x_pred)\n",
    "f1 = f1_score(y_train, x_pred)\n",
    "\n",
    "print(f\"Train Accuracy: {accuracy}\")\n",
    "print(f\"Train f1_score: {f1}\")\n",
    "\n",
    "confusion_matrix(y_train, x_pred)"
   ]
  },
  {
   "cell_type": "code",
   "execution_count": 5,
   "id": "7c04befd",
   "metadata": {},
   "outputs": [
    {
     "name": "stdout",
     "output_type": "stream",
     "text": [
      "Test Accuracy: 0.8194444444444444\n",
      "Test f1_score: 0.8602150537634409\n"
     ]
    },
    {
     "data": {
      "text/plain": [
       "array([[ 57,  23],\n",
       "       [ 16, 120]])"
      ]
     },
     "execution_count": 5,
     "metadata": {},
     "output_type": "execute_result"
    }
   ],
   "source": [
    "x_pred = classifier.predict(x_test_mapped)\n",
    "accuracy = accuracy_score(y_test, x_pred)\n",
    "f1 = f1_score(y_test, x_pred)\n",
    "\n",
    "print(f\"Test Accuracy: {accuracy}\")\n",
    "print(f\"Test f1_score: {f1}\")\n",
    "\n",
    "confusion_matrix(y_test, x_pred)"
   ]
  },
  {
   "cell_type": "code",
   "execution_count": null,
   "id": "bccca4b4",
   "metadata": {},
   "outputs": [],
   "source": []
  },
  {
   "cell_type": "code",
   "execution_count": null,
   "id": "e4608323",
   "metadata": {},
   "outputs": [],
   "source": []
  }
 ],
 "metadata": {
  "kernelspec": {
   "display_name": "ThisOne",
   "language": "python",
   "name": "python3"
  },
  "language_info": {
   "codemirror_mode": {
    "name": "ipython",
    "version": 3
   },
   "file_extension": ".py",
   "mimetype": "text/x-python",
   "name": "python",
   "nbconvert_exporter": "python",
   "pygments_lexer": "ipython3",
   "version": "3.13.2"
  }
 },
 "nbformat": 4,
 "nbformat_minor": 5
}
