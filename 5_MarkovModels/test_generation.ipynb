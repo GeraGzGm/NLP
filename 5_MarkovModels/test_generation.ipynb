{
 "cells": [
  {
   "cell_type": "markdown",
   "id": "82b49d0c",
   "metadata": {},
   "source": [
    "- Build (\"train\") the Markov model. We will not use matrices / arrays, but dictionaries.\n",
    "- Use the trained model to generate poems. We'll do 4 lines at a time."
   ]
  },
  {
   "cell_type": "code",
   "execution_count": 3,
   "id": "f6386672",
   "metadata": {},
   "outputs": [],
   "source": [
    "import string\n",
    "import numpy as np\n",
    "from collections import defaultdict\n"
   ]
  },
  {
   "cell_type": "code",
   "execution_count": 4,
   "id": "7487b109",
   "metadata": {},
   "outputs": [],
   "source": [
    "class Dataset:\n",
    "    def __init__(self, text_path: str, label: int):\n",
    "        self.file = self._load(text_path)\n",
    "        self.label = label\n",
    "        \n",
    "        self._values = None\n",
    "\n",
    "    def _load(self, path: str):\n",
    "        with open(path, mode = \"r\", newline = \"\\n\") as file:\n",
    "            return file.read().splitlines()\n",
    "    \n",
    "    def clean_lines(self) -> list:\n",
    "        input_text = []\n",
    "\n",
    "        for line in self.file:\n",
    "            line = line.rstrip().lower()\n",
    "\n",
    "            if not line:\n",
    "                continue\n",
    "\n",
    "            line = line.translate( str.maketrans(\"\", \"\", string.punctuation) )\n",
    "            input_text.append(line)\n",
    "\n",
    "        return input_text\n",
    "\n",
    "    def get_samples(self) -> tuple[list, list]:\n",
    "        return self.clean_lines()\n",
    "    \n",
    "    @property\n",
    "    def values(self) -> list:\n",
    "        if self._values is None:\n",
    "            self._values = self.get_samples()\n",
    "        return self._values\n",
    "    \n",
    "    def __getitem__(self, idx: int) -> str:\n",
    "        return self.values[idx].split()\n",
    "    \n",
    "    def __len__(self) -> int:\n",
    "        return len(self.values)"
   ]
  },
  {
   "cell_type": "code",
   "execution_count": 5,
   "id": "9b2fb789",
   "metadata": {},
   "outputs": [],
   "source": [
    "frost = Dataset(\"../datasets/MarkovModelClassification/robert_frost.txt\", 1)"
   ]
  },
  {
   "cell_type": "code",
   "execution_count": null,
   "id": "fe0a72bc",
   "metadata": {},
   "outputs": [],
   "source": [
    "class MarkovGenerator:\n",
    "    def __init__(self):\n",
    "        self.initial = defaultdict(int)  # Counts of starting tokens\n",
    "        self.first_order = defaultdict(lambda: defaultdict(int))  # t1 -> t2 counts\n",
    "        self.second_order = defaultdict(lambda: defaultdict(int))  # (t0, t1) -> t2 counts\n",
    "\n",
    "    def train(self, dataset):\n",
    "        for line in dataset:\n",
    "            if not line:\n",
    "                continue\n",
    "            self.initial[line[0]] += 1\n",
    "\n",
    "            # First-order transitions (t1 -> t2)\n",
    "            for t1, t2 in zip(line[:-1], line[1:]):\n",
    "                self.first_order[t1][t2] += 1\n",
    "\n",
    "            # Second-order transitions ((t0, t1) -> t2)\n",
    "            for t0, t1, t2 in zip([None] + line[:-1], line, line[1:] + [\"END\"]):\n",
    "                if t0 is not None:  # Skip first word (no previous context)\n",
    "                    self.second_order[(t0, t1)][t2] += 1\n",
    "\n",
    "        self._normalize()\n",
    "\n",
    "    def _normalize(self):\n",
    "        total = sum(self.initial.values())\n",
    "        self.initial = {k: v / total for k, v in self.initial.items()}\n",
    "\n",
    "        for t1 in self.first_order:\n",
    "            total = sum(self.first_order[t1].values())\n",
    "            self.first_order[t1] = {t2: cnt / total for t2, cnt in self.first_order[t1].items()}\n",
    "\n",
    "        for (t0, t1) in self.second_order:\n",
    "            total = sum(self.second_order[(t0, t1)].values())\n",
    "            self.second_order[(t0, t1)] = {t2: cnt / total for t2, cnt in self.second_order[(t0, t1)].items()}\n",
    "\n",
    "    def generate(self, lines: int = 4):\n",
    "\n",
    "        for i in range(lines):\n",
    "            sentence = \"\"\n",
    "\n",
    "            w0 = self.sample_word( self.initial )\n",
    "            w1 = self.sample_word(self.first_order[w0])\n",
    "            \n",
    "            sentence += f\"{w0} {w1}\"\n",
    "            while True:\n",
    "                w2 = self.sample_word( self.second_order[ (w0,w1) ] )\n",
    "\n",
    "                if w2 == \"END\":\n",
    "                    break\n",
    "                \n",
    "                w0 = w1\n",
    "                w1 = w2\n",
    "\n",
    "                sentence += f\" {w2}\"\n",
    "            print(sentence)  \n",
    "\n",
    "    def sample_word(self, sampler: dict) -> str:\n",
    "        return np.random.choice(list(sampler.keys()), p = list(sampler.values()))"
   ]
  },
  {
   "cell_type": "code",
   "execution_count": 26,
   "id": "77ad1d38",
   "metadata": {},
   "outputs": [
    {
     "name": "stdout",
     "output_type": "stream",
     "text": [
      "what do you see him living many years\n",
      "now he snapped his eyes\n",
      "but then he cant see what ive tasted of desire\n",
      "you can be\n"
     ]
    }
   ],
   "source": [
    "generator = MarkovGenerator()\n",
    "generator.train(frost)\n",
    "generator.generate()"
   ]
  }
 ],
 "metadata": {
  "kernelspec": {
   "display_name": "ThisOne",
   "language": "python",
   "name": "python3"
  },
  "language_info": {
   "codemirror_mode": {
    "name": "ipython",
    "version": 3
   },
   "file_extension": ".py",
   "mimetype": "text/x-python",
   "name": "python",
   "nbconvert_exporter": "python",
   "pygments_lexer": "ipython3",
   "version": "3.13.2"
  }
 },
 "nbformat": 4,
 "nbformat_minor": 5
}
