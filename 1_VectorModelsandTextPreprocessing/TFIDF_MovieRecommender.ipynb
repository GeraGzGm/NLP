{
 "cells": [
  {
   "cell_type": "code",
   "execution_count": null,
   "metadata": {},
   "outputs": [],
   "source": [
    "!wget https://lazyprogrammer.me/course_files/nlp/tmdb_5000_movies.csv"
   ]
  },
  {
   "cell_type": "markdown",
   "metadata": {},
   "source": [
    "Exercise Prompt Hints\n",
    "\n",
    "- Key step: how to combine movie data into a single string?\n",
    "- Recall: TfidfVectorizer expects one string per \"document\"\n",
    "- Transform the strings using TF-IDF\n",
    "\n",
    "- Assume the query is always an existing movie in the database:\n",
    "\n",
    "     E.g. query =\"Scream 3\", then recommend other movies based on this\n",
    "\n",
    "- Get TF-IDF representation of Scream 3 \n",
    "- Compute similarity between Scream 3 and all other vectors\n",
    "\n",
    "- Sort by similarity\n",
    "\n",
    "- Print out the top 5 closest movies\n",
    "\n",
    "- Try movies from other genres"
   ]
  },
  {
   "cell_type": "code",
   "execution_count": 243,
   "metadata": {},
   "outputs": [],
   "source": [
    "import ast\n",
    "import matplotlib.pyplot as plt\n",
    "from typing import Generator\n",
    "\n",
    "\n",
    "from scipy.sparse._csr import csr_matrix\n",
    "import pandas as pd\n",
    "from sklearn.feature_extraction.text import TfidfVectorizer\n",
    "from sklearn.metrics.pairwise import cosine_similarity, euclidean_distances"
   ]
  },
  {
   "cell_type": "code",
   "execution_count": 283,
   "metadata": {},
   "outputs": [],
   "source": [
    "class MovieRecommender:\n",
    "    def __init__(self, dataset_path: str):\n",
    "        self.df = self._load_df(dataset_path)\n",
    "        self.df = self._fix_loading(self.df)\n",
    "        self.df = self._add_mix_column(self.df)\n",
    "        \n",
    "        self.tfid = TfidfVectorizer(max_features=5000)\n",
    "\n",
    "\n",
    "    def _load_df(self, dataset_path: str) -> pd.DataFrame:\n",
    "        return pd.read_csv(dataset_path)\n",
    "    \n",
    "    def _fix_loading(self, df: pd.DataFrame) -> pd.DataFrame:\n",
    "        df[\"genres\"] = df['genres'].apply(ast.literal_eval)\n",
    "        df[\"keywords\"] = df['keywords'].apply(ast.literal_eval)\n",
    "        return df\n",
    "    \n",
    "    def _add_mix_column(self, df: pd.DataFrame) -> pd.DataFrame:\n",
    "        df[\"mix\"] = df.apply(self._get_row_string_representation, axis=1)\n",
    "        return df\n",
    "\n",
    "    def _get_row_string_representation(self, row) -> str:\n",
    "        genres = self._cast_dict_value_to_string(row[\"genres\"])\n",
    "        keywords = self._cast_dict_value_to_string(row[\"keywords\"])\n",
    "\n",
    "        return genres + keywords\n",
    "\n",
    "    @staticmethod\n",
    "    def _cast_dict_value_to_string(row: list):\n",
    "        return \" \".join( [cell.get(\"name\") for cell in row] )\n",
    "\n",
    "    def get_movie_recommendation(self, movie: str, distance_type: str = \"cosine\", recommendations: int = 5) -> pd.Series:\n",
    "\n",
    "        movie_idx = self._get_movie_idx(movie)\n",
    "\n",
    "        X_train, X_test = self.vectorize(movie_idx)\n",
    "        scores = self.compute_scores(X_train, X_test, distance_type)\n",
    "\n",
    "        return self.df.iloc[scores[1:recommendations+1]][\"title\"]\n",
    "\n",
    "    def vectorize(self, movie_idx: int) -> tuple[csr_matrix, csr_matrix]:\n",
    "        X_train_trans = self.tfid.fit_transform( self.df[\"mix\"] )\n",
    "        X_test_trans = X_train_trans[movie_idx]\n",
    "        return X_train_trans, X_test_trans\n",
    "\n",
    "    def compute_scores(self, X_train: csr_matrix, X_test: csr_matrix, distance_type: str):\n",
    "\n",
    "        if distance_type == \"cosine\":\n",
    "            scores = -cosine_similarity( X_test, X_train )\n",
    "\n",
    "        elif distance_type == \"euclidean\":\n",
    "            scores = euclidean_distances( X_test, X_train )\n",
    "\n",
    "        return scores.argsort()[0]\n",
    "\n",
    "\n",
    "    def _get_movie_idx(self, movie: str) -> pd.Index:\n",
    "        try:\n",
    "            return self.df[ self.df[\"title\"] == movie ].index[0]\n",
    "        except IndexError as e:\n",
    "            raise IndexError(f\"Movie '{movie}' not in the DB. %s\")"
   ]
  },
  {
   "cell_type": "code",
   "execution_count": 286,
   "metadata": {},
   "outputs": [
    {
     "data": {
      "text/plain": [
       "2290                  Just Married\n",
       "3408         Two Lovers and a Bear\n",
       "4719             The Married Woman\n",
       "2325    My Big Fat Greek Wedding 2\n",
       "4115                    House of D\n",
       "Name: title, dtype: object"
      ]
     },
     "execution_count": 286,
     "metadata": {},
     "output_type": "execute_result"
    }
   ],
   "source": [
    "recommender = MovieRecommender(\"../datasets/tmdb_5000_movies.csv\")\n",
    "\n",
    "movie = \"Runaway Bride\"\n",
    "recommender.get_movie_recommendation(movie, distance_type=\"cosine\")"
   ]
  },
  {
   "cell_type": "code",
   "execution_count": null,
   "metadata": {},
   "outputs": [],
   "source": []
  },
  {
   "cell_type": "code",
   "execution_count": null,
   "metadata": {},
   "outputs": [],
   "source": []
  }
 ],
 "metadata": {
  "kernelspec": {
   "display_name": "ThisOne",
   "language": "python",
   "name": "python3"
  },
  "language_info": {
   "codemirror_mode": {
    "name": "ipython",
    "version": 3
   },
   "file_extension": ".py",
   "mimetype": "text/x-python",
   "name": "python",
   "nbconvert_exporter": "python",
   "pygments_lexer": "ipython3",
   "version": "3.13.2"
  }
 },
 "nbformat": 4,
 "nbformat_minor": 2
}
