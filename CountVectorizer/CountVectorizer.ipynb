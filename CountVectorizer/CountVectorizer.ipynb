{
 "cells": [
  {
   "cell_type": "code",
   "execution_count": null,
   "metadata": {},
   "outputs": [],
   "source": [
    "# https://www.kaggle.com/shivamkushwaha/bbc-full-text-document-classification\n",
    "\n",
    "!wget -nc https://lazyprogrammer.me/course_files/nlp/bbc_text_cls.csv"
   ]
  },
  {
   "cell_type": "code",
   "execution_count": 1,
   "metadata": {},
   "outputs": [],
   "source": [
    "from pathlib import Path\n",
    "\n",
    "import os\n",
    "os.environ['NLTK_DATA'] = '/home/gerardo/Desktop/Repos/NLP/datasets/nltk'\n",
    "\n",
    "import nltk\n",
    "import pandas as pd\n",
    "from nltk import word_tokenize\n",
    "from nltk.corpus import wordnet, stopwords\n",
    "from nltk.stem import WordNetLemmatizer, PorterStemmer\n",
    "from sklearn.naive_bayes import MultinomialNB\n",
    "from sklearn.model_selection import train_test_split\n",
    "from sklearn.feature_extraction.text import CountVectorizer\n",
    "\n",
    "from Vectorizer import MyCountVectorizer, LemmaTokenizer"
   ]
  },
  {
   "cell_type": "code",
   "execution_count": 2,
   "metadata": {},
   "outputs": [
    {
     "name": "stderr",
     "output_type": "stream",
     "text": [
      "[nltk_data] Downloading package punkt to\n",
      "[nltk_data]     /home/gerardo/Desktop/Repos/NLP/datasets/nltk...\n",
      "[nltk_data]   Package punkt is already up-to-date!\n",
      "[nltk_data] Downloading package punkt_tab to\n",
      "[nltk_data]     /home/gerardo/Desktop/Repos/NLP/datasets/nltk...\n",
      "[nltk_data]   Package punkt_tab is already up-to-date!\n",
      "[nltk_data] Downloading package averaged_perceptron_tagger to\n",
      "[nltk_data]     /home/gerardo/Desktop/Repos/NLP/datasets/nltk...\n",
      "[nltk_data]   Package averaged_perceptron_tagger is already up-to-\n",
      "[nltk_data]       date!\n",
      "[nltk_data] Downloading package averaged_perceptron_tagger_eng to\n",
      "[nltk_data]     /home/gerardo/Desktop/Repos/NLP/datasets/nltk...\n",
      "[nltk_data]   Package averaged_perceptron_tagger_eng is already up-to-\n",
      "[nltk_data]       date!\n",
      "[nltk_data] Downloading package wordnet to\n",
      "[nltk_data]     /home/gerardo/Desktop/Repos/NLP/datasets/nltk...\n",
      "[nltk_data]   Package wordnet is already up-to-date!\n",
      "[nltk_data] Downloading package omw-1.4 to\n",
      "[nltk_data]     /home/gerardo/Desktop/Repos/NLP/datasets/nltk...\n",
      "[nltk_data]   Package omw-1.4 is already up-to-date!\n"
     ]
    }
   ],
   "source": [
    "# Force download to the environment-specific path\n",
    "nltk.download('punkt', download_dir='/home/gerardo/Desktop/Repos/NLP/datasets/nltk')\n",
    "nltk.download('punkt_tab', download_dir='/home/gerardo/Desktop/Repos/NLP/datasets/nltk')\n",
    "nltk.download('averaged_perceptron_tagger', download_dir='/home/gerardo/Desktop/Repos/NLP/datasets/nltk')\n",
    "nltk.download('averaged_perceptron_tagger_eng',download_dir='/home/gerardo/Desktop/Repos/NLP/datasets/nltk')\n",
    "nltk.download('wordnet', download_dir='/home/gerardo/Desktop/Repos/NLP/datasets/nltk')\n",
    "nltk.download('omw-1.4', download_dir='/home/gerardo/Desktop/Repos/NLP/datasets/nltk')\n",
    "\n",
    "# Set the data path\n",
    "nltk.data.path.append('/home/gerardo/Desktop/Repos/NLP/datasets/nltk')"
   ]
  },
  {
   "cell_type": "code",
   "execution_count": 3,
   "metadata": {},
   "outputs": [],
   "source": [
    "dataset = pd.read_csv(Path(\"../datasets/bbc_text_cls.csv\"))\n",
    "\n",
    "x = dataset[\"text\"]\n",
    "y = dataset[\"labels\"]\n",
    "\n",
    "X_train, X_test, Y_train, Y_test = train_test_split(x, y, random_state = 22)"
   ]
  },
  {
   "cell_type": "markdown",
   "metadata": {},
   "source": [
    "## Test my own CountVectorizer class"
   ]
  },
  {
   "cell_type": "code",
   "execution_count": 4,
   "metadata": {},
   "outputs": [],
   "source": [
    "vectorizer = MyCountVectorizer()\n",
    "X_train_trans = vectorizer.fit_transform(X_train)\n",
    "X_test_trans = vectorizer.transform(X_test)"
   ]
  },
  {
   "cell_type": "code",
   "execution_count": 5,
   "metadata": {},
   "outputs": [
    {
     "name": "stdout",
     "output_type": "stream",
     "text": [
      "(1668, 26168) (1668,)\n",
      "(557, 26168) (557,)\n"
     ]
    }
   ],
   "source": [
    "print(X_train_trans.shape, Y_train.shape)\n",
    "print(X_test_trans.shape, Y_test.shape)"
   ]
  },
  {
   "cell_type": "code",
   "execution_count": 6,
   "metadata": {},
   "outputs": [
    {
     "name": "stdout",
     "output_type": "stream",
     "text": [
      "Train score 0.9940047961630696\n",
      "Test score 0.9766606822262118\n"
     ]
    }
   ],
   "source": [
    "model = MultinomialNB()\n",
    "model.fit(X_train_trans, Y_train)\n",
    "\n",
    "print(\"Train score\", model.score(X_train_trans, Y_train))\n",
    "print(\"Test score\", model.score(X_test_trans, Y_test))"
   ]
  },
  {
   "cell_type": "markdown",
   "metadata": {},
   "source": [
    "## Test Raw CountVectorize from sklearn"
   ]
  },
  {
   "cell_type": "code",
   "execution_count": 7,
   "metadata": {},
   "outputs": [
    {
     "name": "stdout",
     "output_type": "stream",
     "text": [
      "Train score 0.9940047961630696\n",
      "Test score 0.9748653500897666\n"
     ]
    }
   ],
   "source": [
    "vectorizer = CountVectorizer()\n",
    "X_train_trans = vectorizer.fit_transform(X_train)\n",
    "X_test_trans = vectorizer.transform(X_test)\n",
    "\n",
    "model = MultinomialNB()\n",
    "model.fit(X_train_trans, Y_train)\n",
    "\n",
    "print(\"Train score\", model.score(X_train_trans, Y_train))\n",
    "print(\"Test score\", model.score(X_test_trans, Y_test))"
   ]
  },
  {
   "cell_type": "markdown",
   "metadata": {},
   "source": [
    "## Test CountVectorize with stop_words"
   ]
  },
  {
   "cell_type": "code",
   "execution_count": 8,
   "metadata": {},
   "outputs": [
    {
     "name": "stdout",
     "output_type": "stream",
     "text": [
      "Train score 0.9946043165467626\n",
      "Test score 0.9766606822262118\n"
     ]
    }
   ],
   "source": [
    "vectorizer = CountVectorizer(stop_words = \"english\")\n",
    "X_train_trans = vectorizer.fit_transform(X_train)\n",
    "X_test_trans = vectorizer.transform(X_test)\n",
    "\n",
    "model = MultinomialNB()\n",
    "model.fit(X_train_trans, Y_train)\n",
    "\n",
    "print(\"Train score\", model.score(X_train_trans, Y_train))\n",
    "print(\"Test score\", model.score(X_test_trans, Y_test))"
   ]
  },
  {
   "cell_type": "markdown",
   "metadata": {},
   "source": [
    "## Test CountVectorize with LemmaTokenizer"
   ]
  },
  {
   "cell_type": "code",
   "execution_count": 12,
   "metadata": {},
   "outputs": [
    {
     "name": "stderr",
     "output_type": "stream",
     "text": [
      "/home/gerardo/miniconda3/envs/ThisOne/lib/python3.13/site-packages/sklearn/feature_extraction/text.py:517: UserWarning: The parameter 'token_pattern' will not be used since 'tokenizer' is not None'\n",
      "  warnings.warn(\n"
     ]
    },
    {
     "name": "stdout",
     "output_type": "stream",
     "text": [
      "Train score 0.9934052757793765\n",
      "Test score 0.9766606822262118\n"
     ]
    }
   ],
   "source": [
    "from sklearn.exceptions import NotFittedError\n",
    "\n",
    "vectorizer = CountVectorizer( tokenizer = LemmaTokenizer() )\n",
    "\n",
    "X_train_trans = vectorizer.fit_transform(X_train)\n",
    "X_test_trans = vectorizer.transform(X_test)\n",
    "\n",
    "model = MultinomialNB()\n",
    "model.fit(X_train_trans, Y_train)\n",
    "\n",
    "print(\"Train score\", model.score(X_train_trans, Y_train))\n",
    "print(\"Test score\", model.score(X_test_trans, Y_test))"
   ]
  },
  {
   "cell_type": "markdown",
   "metadata": {},
   "source": [
    "## Test CountVectorize with PorterStemmer"
   ]
  },
  {
   "cell_type": "code",
   "execution_count": null,
   "metadata": {},
   "outputs": [],
   "source": []
  },
  {
   "cell_type": "code",
   "execution_count": null,
   "metadata": {},
   "outputs": [],
   "source": []
  }
 ],
 "metadata": {
  "kernelspec": {
   "display_name": "ThisOne",
   "language": "python",
   "name": "python3"
  },
  "language_info": {
   "codemirror_mode": {
    "name": "ipython",
    "version": 3
   },
   "file_extension": ".py",
   "mimetype": "text/x-python",
   "name": "python",
   "nbconvert_exporter": "python",
   "pygments_lexer": "ipython3",
   "version": "3.13.2"
  }
 },
 "nbformat": 4,
 "nbformat_minor": 2
}
