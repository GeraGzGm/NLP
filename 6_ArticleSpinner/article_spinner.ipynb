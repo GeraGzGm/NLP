{
 "cells": [
  {
   "cell_type": "code",
   "execution_count": 2,
   "id": "1dc43710",
   "metadata": {},
   "outputs": [
    {
     "name": "stdout",
     "output_type": "stream",
     "text": [
      "File ‘../datasets/articlespinner/bbc_text_cls.csv’ already there; not retrieving.\n",
      "\n"
     ]
    }
   ],
   "source": [
    "!wget -nc -P ../datasets/articlespinner/ https://lazyprogrammer.me/course_files/nlp/bbc_text_cls.csv"
   ]
  },
  {
   "cell_type": "code",
   "execution_count": 70,
   "id": "7e05f50b",
   "metadata": {},
   "outputs": [
    {
     "name": "stderr",
     "output_type": "stream",
     "text": [
      "[nltk_data] Downloading package punkt to ../datasets/nltk/...\n",
      "[nltk_data]   Package punkt is already up-to-date!\n"
     ]
    }
   ],
   "source": [
    "import numpy as np\n",
    "import pandas as pd\n",
    "\n",
    "import nltk\n",
    "import textwrap\n",
    "from collections import defaultdict\n",
    "from nltk import word_tokenize\n",
    "from nltk import TreebankWordDetokenizer\n",
    "\n",
    "nltk.download('punkt', \"../datasets/nltk/\")\n",
    "nltk.data.path.append(\"../datasets/nltk/\")"
   ]
  },
  {
   "cell_type": "code",
   "execution_count": 112,
   "id": "51574039",
   "metadata": {},
   "outputs": [],
   "source": [
    "class Dataset:\n",
    "    def __init__(self, path: str, train_label: str, test_label: str):\n",
    "        self.df, self.labels = self._load_dataset(path)\n",
    "\n",
    "        self.test_df =  self._filter_dataset(self.df, test_label)\n",
    "        self.df = self._filter_dataset(self.df, train_label)\n",
    "\n",
    "        self.token_df = self._tokenize(self.df)\n",
    "        self.test_token_df = self._tokenize(self.test_df)\n",
    "\n",
    "    def _load_dataset(self, path: str) -> tuple[pd.DataFrame, set]:\n",
    "        df = pd.read_csv(path)\n",
    "        labels = set(df[\"labels\"])\n",
    "        return df, labels\n",
    "    \n",
    "    def _filter_dataset(self, df: pd.DataFrame, label: str):\n",
    "        return df[df[\"labels\"] == label][\"text\"]\n",
    "    \n",
    "    def _tokenize(self, df: pd.DataFrame) -> pd.DataFrame:\n",
    "        def tokenize(text: str) -> str:\n",
    "            return word_tokenize(text.lower())\n",
    "        return df.apply(tokenize)\n",
    "\n",
    "    def __getitem__(self, idx: int) -> tuple[str, list]:\n",
    "        return self.token_df.iloc[idx]\n",
    "\n",
    "    def __len__(self) -> int:\n",
    "        return len(self.token_df)\n",
    "    \n",
    "    @property\n",
    "    def get_test_df(self) -> pd.DataFrame:\n",
    "        return self.test_token_df\n",
    "\n",
    "class N_Gram:\n",
    "    START = \"<s>\"\n",
    "    END = \"<e>\"\n",
    "\n",
    "    def __init__(self, tokens: Dataset):\n",
    "        self.tokens = tokens\n",
    "        self.tri_grams = self.get_counts(self.tokens)\n",
    "        self.tri_grams_prob = self.get_middle_probabilities(self.tri_grams)\n",
    "\n",
    "        self.detokenizer = TreebankWordDetokenizer()\n",
    "\n",
    "    def get_counts(self, tokens: Dataset):\n",
    "        counts = defaultdict(lambda: defaultdict(lambda: defaultdict(int)))\n",
    "\n",
    "        for line in tokens:\n",
    "            line = [self.START] + line + [self.END]\n",
    "            for i in range(1, len(line) - 1):\n",
    "                t_last, middle, t_next = line[i-1 : i+2]\n",
    "                counts[t_last][t_next][middle] += 1\n",
    "        return counts\n",
    "    \n",
    "    def get_middle_probabilities(self, counts: defaultdict):\n",
    "        for prev_t, next_dict in counts.items():\n",
    "            for next_t, middle_dict in next_dict.items():\n",
    "                n_tokens = sum(middle_dict.values())\n",
    "\n",
    "                counts[prev_t][next_t] = {middle_t: value/n_tokens for middle_t, value in middle_dict.items()}\n",
    "        return counts\n",
    "    \n",
    "    def spin_text(self, test: pd.DataFrame):\n",
    "\n",
    "        spin_text = []\n",
    "        real_text = []\n",
    "\n",
    "        for line in test:\n",
    "            real_text_temp = []\n",
    "            spin_text_temp = []\n",
    "\n",
    "\n",
    "            line = [self.START] + line + [self.END]\n",
    "            for i in range(1, len(line) - 1):\n",
    "                t_last, middle, t_next = line[i-1 : i+2]\n",
    "                spin_middle = self.sample_word(t_last, t_next, middle)\n",
    "\n",
    "                real_text_temp.append(middle)\n",
    "                spin_text_temp.append(spin_middle)\n",
    "\n",
    "                if t_next == self.END:\n",
    "                    break\n",
    "            \n",
    "            \n",
    "            real_text.append(self.detokenizer.detokenize(real_text_temp))\n",
    "            spin_text.append(self.detokenizer.detokenize(spin_text_temp))\n",
    "    \n",
    "        return real_text, spin_text\n",
    "\n",
    "    def sample_word(self, prev_t: str, next_t: str, middle: str) -> str:\n",
    "        options = self.tri_grams_prob.get(prev_t, {}).get(next_t, {})\n",
    "\n",
    "        if options:\n",
    "            return str(np.random.choice(list(options.keys()), p = list(options.values())))\n",
    "        else:\n",
    "            return middle\n",
    "    "
   ]
  },
  {
   "cell_type": "code",
   "execution_count": 117,
   "id": "3c19394d",
   "metadata": {},
   "outputs": [],
   "source": [
    "dataset = Dataset(\"../datasets/articlespinner/bbc_text_cls.csv\", \"business\", \"tech\")\n",
    "test = dataset.get_test_df"
   ]
  },
  {
   "cell_type": "code",
   "execution_count": 118,
   "id": "2221883c",
   "metadata": {},
   "outputs": [],
   "source": [
    "ngram = N_Gram(dataset)\n",
    "real, spin = ngram.spin_text(test)"
   ]
  },
  {
   "cell_type": "code",
   "execution_count": 119,
   "id": "b07ebfca",
   "metadata": {},
   "outputs": [
    {
     "name": "stdout",
     "output_type": "stream",
     "text": [
      "digital guru floats sub- $100 pc nicholas negroponte, chairman and\n",
      "founder of mit's media labs, says he is developing a laptop pc that\n",
      "will go on sale for less than $100 (£53). he told the bbc world\n",
      "service programme go digital he hoped it would become an education\n",
      "tool in developing countries . he said one laptop per child could be\n",
      "\"very important to the development of not just that child but now the\n",
      "whole family, village and neighbourhood\". he said the child could use\n",
      "the laptop like a text book . he described the device as a stripped\n",
      "down laptop, which would run a linux-based operating system, \"we have\n",
      "to get the display down to below $20, to do this we need to rear\n",
      "project the image rather than using an ordinary flat panel . \"the\n",
      "second trick is to get rid of the fat, if you can skinny it down you\n",
      "can gain speed and the ability to use smaller processors and slower\n",
      "memory .\" the device will probably be exported as a kit of parts to be\n",
      "assembled locally to keep costs down . mr negroponte said this was a\n",
      "not for profit venture, though he recognised that the manufacturers of\n",
      "the components would be making money . in 1995 mr negroponte published\n",
      "the bestselling being digital, now widely seen as predicting the\n",
      "digital age . the concept is based on experiments in the us state of\n",
      "maine, where children were given laptop computers to take home and do\n",
      "their work on . while the idea was popular amongst the children, it\n",
      "initially received some resistance from the teachers and there were\n",
      "problems with laptops getting broken . however, mr negroponte has\n",
      "adapted the idea to his own work in cambodia where he set up two\n",
      "schools together with his wife and gave the children laptops . \"we put\n",
      "in 25 laptops three years ago, only one has been broken, the kids\n",
      "cherish these things, it's also a tv a telephone and a games machine,\n",
      "not just a textbook .\" mr negroponte wants the laptops to become more\n",
      "common than mobile phones but conceded this was ambitious . \"nokia\n",
      "make 200 million cell phones a year, so for us to claim we're going to\n",
      "make 200 million laptops is a big number, but we're not talking about\n",
      "doing it in three or five years, we're talking about months .\" he\n",
      "plans to be distributing them by the end of 2006 and is already in\n",
      "discussion with the chinese education ministry who are expected to\n",
      "make a large order . \"in china they spend $17 per child per year on\n",
      "textbooks . that's for five or six years, so if we can distribute and\n",
      "sell laptops in quantities of one million or more to ministries of\n",
      "education that's cheaper and the marketing overheads go away.\"\n"
     ]
    }
   ],
   "source": [
    "import textwrap\n",
    "\n",
    "i = 3\n",
    "\n",
    "print(textwrap.fill(real[i], replace_whitespace = False, fix_sentence_endings = True))"
   ]
  },
  {
   "cell_type": "code",
   "execution_count": 120,
   "id": "f4764f91",
   "metadata": {},
   "outputs": [
    {
     "name": "stdout",
     "output_type": "stream",
     "text": [
      "digital guru floats sub- $100 pc nicholas negroponte, mothercare and\n",
      "independence of may's media business,\" it is bringing a laptop pc that\n",
      "will be on more for more than $3bn (bse). bat oversaw the whole world\n",
      "food programme go digital he said more to submit an education tool in\n",
      "poor countries . it admitted one laptop per child could be viewed an\n",
      "early to the hands of for convinced that child but loosen the ambani\n",
      "sector, discriminatory and workable\" but renault expects the airline\n",
      "could hit the laptop like a text book . he said the decision as a\n",
      "stripped down 247p, taxation is face a linux-based operating company,\n",
      "then we tried to recommend the day down by restate $15bn% airlines do\n",
      "this we tried to the project the uk rather than providing an ordinary\n",
      "flat sales that \"the second trick is to get out of the us, if that can\n",
      "see it down you can gain speed at the latter to fly smaller ones and\n",
      "slower memory . \"the owner will not be worth as a range of moving to\n",
      "be assembled locally to cut costs further . mr bush said he is careful\n",
      "base for profit forecasts,\" he anticipated as the exploration to their\n",
      "tragedy would be making acquisitions . in financing mr negroponte\n",
      "published the rest being equal, is widely viewed as hitting the\n",
      "incoming televisions . the move is based on thursday in the indian\n",
      "unit of 2004, where roles were given laptop computers to take off and\n",
      "that their shares on privatisation should the project was popular\n",
      "amongst the victims, which had received some resistance from the\n",
      "benefits and we were charged with laptops getting worse . however, mr\n",
      "howard has pushed the board to his own liffe in areas where he set up\n",
      "two schools together with his wealth and restructuring the children\n",
      "laptops . \"we progress in 25 laptops three decades earlier, is ncci\n",
      "has also squabbling in the kids cherish these days, winn-dixie has\n",
      "spent a tv a good and a games machine, or give a statement .\" mr\n",
      "toshitsune wants the government to reach more efficient than mobile\n",
      "phones but...this was sluggish . \"will make 200 million cell phones a\n",
      "result, accounted the them government think we're headed to cut 200\n",
      "million laptops is very limited name, so we are not optimistic about\n",
      "what it employed five or four months, we're talking about £1.35bn,\" he\n",
      "began to be distributing them that the agenda of technical and is\n",
      "involved in motion with the chinese education ministry who had likely\n",
      "to introduce a government debt . \"in november they spend $327 per\n",
      "child per year on refugees . merck called top online to ten garments\n",
      "or and . it can . and sell shares in favour of 70 way or wish to\n",
      "regulation of banks that were shareholders and increased marketing\n",
      "overheads go ahead,\"\n"
     ]
    }
   ],
   "source": [
    "print(textwrap.fill(spin[i], replace_whitespace = False, fix_sentence_endings = True))\n"
   ]
  },
  {
   "cell_type": "code",
   "execution_count": null,
   "id": "9beb9de7",
   "metadata": {},
   "outputs": [],
   "source": []
  }
 ],
 "metadata": {
  "kernelspec": {
   "display_name": "ThisOne",
   "language": "python",
   "name": "python3"
  },
  "language_info": {
   "codemirror_mode": {
    "name": "ipython",
    "version": 3
   },
   "file_extension": ".py",
   "mimetype": "text/x-python",
   "name": "python",
   "nbconvert_exporter": "python",
   "pygments_lexer": "ipython3",
   "version": "3.13.2"
  }
 },
 "nbformat": 4,
 "nbformat_minor": 5
}
